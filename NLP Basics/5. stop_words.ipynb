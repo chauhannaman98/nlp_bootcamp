{
 "cells": [
  {
   "cell_type": "code",
   "execution_count": 1,
   "metadata": {},
   "outputs": [
    {
     "name": "stderr",
     "output_type": "stream",
     "text": [
      "d:\\python\\NLP\\nlp_bootcamp\\venv\\lib\\site-packages\\tqdm\\auto.py:21: TqdmWarning: IProgress not found. Please update jupyter and ipywidgets. See https://ipywidgets.readthedocs.io/en/stable/user_install.html\n",
      "  from .autonotebook import tqdm as notebook_tqdm\n"
     ]
    }
   ],
   "source": [
    "import spacy\n",
    "nlp = spacy.load('en_core_web_sm')"
   ]
  },
  {
   "cell_type": "code",
   "execution_count": 2,
   "metadata": {},
   "outputs": [
    {
     "name": "stdout",
     "output_type": "stream",
     "text": [
      "{'really', 'that', 'myself', 'or', 'quite', 'indeed', 'make', 'then', 'name', 'an', 'your', 'him', 'thereupon', 'towards', 'at', 'during', 'many', 'per', 'ours', 'anyhow', 'fifty', 'part', 'was', 'would', 'our', 'but', 'sixty', 'thru', 'been', 'everyone', 'still', 'see', 'sometime', 'does', 'done', 'before', 'hereafter', 'not', 'nevertheless', '‘ve', \"'d\", 'which', 'those', 'they', 'to', 'further', 'whereby', 'by', 'moreover', 'hundred', 'all', 'everywhere', 'after', 'beforehand', 'both', 'throughout', 'us', 'five', 'regarding', 'already', 'are', 'cannot', 'each', '’d', 'take', 'least', 'doing', 'thence', 'please', 'four', 'can', 'eleven', 'in', 'go', 'her', 'is', 'other', 'itself', 'together', 'well', 'only', 'whose', 'made', 'except', 'here', 'same', 'since', 'became', 'fifteen', '’re', 'anywhere', 'the', 'although', 'every', 'he', 'say', 'below', 'everything', 'until', 'toward', 'about', 'anything', 'whence', 'has', 'ten', 'latter', 'call', 'why', 'no', 'back', 'ever', 'mostly', 'behind', 'yet', 'somewhere', 'bottom', 'might', 'becoming', 'so', \"'ll\", 'under', 'we', 'herein', 'therefore', '’s', 'show', 'side', 'very', \"'m\", 'neither', 'someone', 'mine', 'again', 'seeming', 'whether', 'must', 'were', 'becomes', 'due', 'will', 'over', 'whoever', 'his', 'anyone', 'own', 'do', 'elsewhere', 'my', 'one', 'such', 'any', 'formerly', 'whereas', 'off', 'otherwise', 'being', 'nobody', 'also', 'anyway', 'beside', 'this', 'onto', 'nowhere', 'latterly', 'himself', '’ve', 'n’t', '‘ll', 'from', 'once', 'where', 'several', 'them', 'never', 'n‘t', 'using', 'ca', 'front', 'should', 'hence', \"'s\", 'therein', 'than', 'most', 'yourselves', 'thus', 'now', 'full', 'as', 'had', 'some', 'more', 'down', 'between', 'across', 'twenty', 'serious', 'for', 're', 'empty', 'a', 'yourself', 'whenever', \"'ve\", 'i', 'above', 'perhaps', 'while', 'yours', 'into', 'less', 'among', '‘d', '‘s', 'of', 'last', 'with', 'rather', 'too', 'whereupon', '’m', 'these', 'up', 'hereupon', 'forty', 'however', 'sometimes', 'nor', 'amongst', 'whither', 'various', 'none', 'along', 'often', 'put', \"n't\", 'former', 'just', 'alone', 'beyond', 'though', 'give', 'used', 'themselves', 'hereby', 'next', 'you', 'around', 'have', 'through', 'seems', 'whatever', 'me', 'wherein', 'much', 'else', 'ourselves', 'am', 'there', 'top', 'out', 'two', 'unless', 'six', 'what', 'meanwhile', 'when', 'three', 'be', 'it', 'if', 'whole', 'move', 'keep', 'may', 'wherever', 'upon', 'she', 'somehow', 'amount', 'its', 'noone', '‘re', 'nine', 'almost', 'others', 'besides', 'herself', 'seem', 'another', 'first', \"'re\", 'afterwards', 'whereafter', 'and', 'within', 'who', 'either', 'how', 'without', 'against', 'third', 'did', 'enough', 'their', 'seemed', 'few', 'on', 'nothing', 'could', 'twelve', 'always', 'whom', 'even', 'because', 'via', 'become', 'namely', 'hers', 'something', '‘m', '’ll', 'eight', 'thereafter', 'thereby', 'get'}\n"
     ]
    }
   ],
   "source": [
    "print(nlp.Defaults.stop_words)"
   ]
  },
  {
   "cell_type": "code",
   "execution_count": 3,
   "metadata": {},
   "outputs": [
    {
     "data": {
      "text/plain": [
       "326"
      ]
     },
     "execution_count": 3,
     "metadata": {},
     "output_type": "execute_result"
    }
   ],
   "source": [
    "len(nlp.Defaults.stop_words)"
   ]
  },
  {
   "cell_type": "code",
   "execution_count": 6,
   "metadata": {},
   "outputs": [
    {
     "data": {
      "text/plain": [
       "False"
      ]
     },
     "execution_count": 6,
     "metadata": {},
     "output_type": "execute_result"
    }
   ],
   "source": [
    "nlp.vocab['mystery'].is_stop"
   ]
  },
  {
   "attachments": {},
   "cell_type": "markdown",
   "metadata": {},
   "source": [
    "### Adding a word as a stop word"
   ]
  },
  {
   "cell_type": "code",
   "execution_count": 7,
   "metadata": {},
   "outputs": [],
   "source": [
    "nlp.Defaults.stop_words.add('btw')"
   ]
  },
  {
   "cell_type": "code",
   "execution_count": 8,
   "metadata": {},
   "outputs": [
    {
     "data": {
      "text/plain": [
       "327"
      ]
     },
     "execution_count": 8,
     "metadata": {},
     "output_type": "execute_result"
    }
   ],
   "source": [
    "len(nlp.Defaults.stop_words)"
   ]
  },
  {
   "cell_type": "code",
   "execution_count": 9,
   "metadata": {},
   "outputs": [
    {
     "data": {
      "text/plain": [
       "True"
      ]
     },
     "execution_count": 9,
     "metadata": {},
     "output_type": "execute_result"
    }
   ],
   "source": [
    "nlp.vocab['btw'].is_stop"
   ]
  },
  {
   "attachments": {},
   "cell_type": "markdown",
   "metadata": {},
   "source": [
    "### Remove a word from Stop Words"
   ]
  },
  {
   "cell_type": "code",
   "execution_count": 16,
   "metadata": {},
   "outputs": [],
   "source": [
    "nlp.Defaults.stop_words.remove('btw')"
   ]
  },
  {
   "cell_type": "code",
   "execution_count": 18,
   "metadata": {},
   "outputs": [],
   "source": [
    "nlp.vocab['btw'].is_stop = False"
   ]
  },
  {
   "cell_type": "code",
   "execution_count": 19,
   "metadata": {},
   "outputs": [
    {
     "data": {
      "text/plain": [
       "False"
      ]
     },
     "execution_count": 19,
     "metadata": {},
     "output_type": "execute_result"
    }
   ],
   "source": [
    "nlp.vocab['btw'].is_stop"
   ]
  }
 ],
 "metadata": {
  "kernelspec": {
   "display_name": "venv",
   "language": "python",
   "name": "python3"
  },
  "language_info": {
   "codemirror_mode": {
    "name": "ipython",
    "version": 3
   },
   "file_extension": ".py",
   "mimetype": "text/x-python",
   "name": "python",
   "nbconvert_exporter": "python",
   "pygments_lexer": "ipython3",
   "version": "3.10.5"
  },
  "orig_nbformat": 4
 },
 "nbformat": 4,
 "nbformat_minor": 2
}
