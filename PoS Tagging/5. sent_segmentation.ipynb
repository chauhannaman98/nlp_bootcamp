{
 "cells": [
  {
   "cell_type": "code",
   "execution_count": 1,
   "metadata": {},
   "outputs": [
    {
     "name": "stderr",
     "output_type": "stream",
     "text": [
      "d:\\python\\NLP\\nlp_bootcamp\\venv\\lib\\site-packages\\tqdm\\auto.py:21: TqdmWarning: IProgress not found. Please update jupyter and ipywidgets. See https://ipywidgets.readthedocs.io/en/stable/user_install.html\n",
      "  from .autonotebook import tqdm as notebook_tqdm\n"
     ]
    }
   ],
   "source": [
    "import spacy\n",
    "nlp = spacy.load('en_core_web_sm')"
   ]
  },
  {
   "cell_type": "code",
   "execution_count": 2,
   "metadata": {},
   "outputs": [],
   "source": [
    "doc = nlp(u\"This is the first sentence. This is the secodn sentence. This is the last sentence.\")"
   ]
  },
  {
   "cell_type": "code",
   "execution_count": 3,
   "metadata": {},
   "outputs": [
    {
     "name": "stdout",
     "output_type": "stream",
     "text": [
      "This is the first sentence.\n",
      "This is the secodn sentence.\n",
      "This is the last sentence.\n"
     ]
    }
   ],
   "source": [
    "for sent in doc.sents:\n",
    "    print(sent)"
   ]
  },
  {
   "cell_type": "code",
   "execution_count": 4,
   "metadata": {},
   "outputs": [
    {
     "data": {
      "text/plain": [
       "[This is the first sentence.,\n",
       " This is the secodn sentence.,\n",
       " This is the last sentence.]"
      ]
     },
     "execution_count": 4,
     "metadata": {},
     "output_type": "execute_result"
    }
   ],
   "source": [
    "list(doc.sents)"
   ]
  },
  {
   "cell_type": "code",
   "execution_count": 5,
   "metadata": {},
   "outputs": [],
   "source": [
    "doc = nlp(u'\"Management is doing he right things; leadership is doing the right thigns.\" - Peter Drucker')"
   ]
  },
  {
   "cell_type": "code",
   "execution_count": 6,
   "metadata": {},
   "outputs": [
    {
     "data": {
      "text/plain": [
       "'\"Management is doing he right things; leadership is doing the right thigns.\" - Peter Drucker'"
      ]
     },
     "execution_count": 6,
     "metadata": {},
     "output_type": "execute_result"
    }
   ],
   "source": [
    "doc.text"
   ]
  },
  {
   "cell_type": "code",
   "execution_count": 7,
   "metadata": {},
   "outputs": [
    {
     "name": "stdout",
     "output_type": "stream",
     "text": [
      "\"Management is doing he right things; leadership is doing the right thigns.\"\n",
      "\n",
      "\n",
      "- Peter Drucker\n",
      "\n",
      "\n"
     ]
    }
   ],
   "source": [
    "for sent in doc.sents:\n",
    "    print(sent)\n",
    "    print('\\n')"
   ]
  },
  {
   "attachments": {},
   "cell_type": "markdown",
   "metadata": {},
   "source": [
    "### ADD A SEGMENTATION RULE"
   ]
  },
  {
   "cell_type": "code",
   "execution_count": 8,
   "metadata": {},
   "outputs": [],
   "source": [
    "from spacy.language import Language"
   ]
  },
  {
   "cell_type": "code",
   "execution_count": 9,
   "metadata": {},
   "outputs": [
    {
     "ename": "ValueError",
     "evalue": "[E182] Received invalid attribute declaration: doc\nDid you forget to define the attribute? For example: `doc.???`",
     "output_type": "error",
     "traceback": [
      "\u001b[1;31m---------------------------------------------------------------------------\u001b[0m",
      "\u001b[1;31mValueError\u001b[0m                                Traceback (most recent call last)",
      "Cell \u001b[1;32mIn[9], line 11\u001b[0m\n\u001b[0;32m      8\u001b[0m \u001b[39mdef\u001b[39;00m \u001b[39mset_custom_boundaries\u001b[39m(nlp, name, doc):\n\u001b[0;32m      9\u001b[0m     \u001b[39mreturn\u001b[39;00m CustomBoundaries(doc)\n\u001b[1;32m---> 11\u001b[0m Language\u001b[39m.\u001b[39;49mfactory(\u001b[39m'\u001b[39;49m\u001b[39mcustom_boundaries\u001b[39;49m\u001b[39m'\u001b[39;49m, func\u001b[39m=\u001b[39;49mset_custom_boundaries, requires\u001b[39m=\u001b[39;49m[\u001b[39m'\u001b[39;49m\u001b[39mdoc\u001b[39;49m\u001b[39m'\u001b[39;49m])\n",
      "File \u001b[1;32md:\\python\\NLP\\nlp_bootcamp\\venv\\lib\\site-packages\\spacy\\language.py:518\u001b[0m, in \u001b[0;36mLanguage.factory\u001b[1;34m(cls, name, default_config, assigns, requires, retokenizes, default_score_weights, func)\u001b[0m\n\u001b[0;32m    515\u001b[0m     \u001b[39mreturn\u001b[39;00m factory_func\n\u001b[0;32m    517\u001b[0m \u001b[39mif\u001b[39;00m func \u001b[39mis\u001b[39;00m \u001b[39mnot\u001b[39;00m \u001b[39mNone\u001b[39;00m:  \u001b[39m# Support non-decorator use cases\u001b[39;00m\n\u001b[1;32m--> 518\u001b[0m     \u001b[39mreturn\u001b[39;00m add_factory(func)\n\u001b[0;32m    519\u001b[0m \u001b[39mreturn\u001b[39;00m add_factory\n",
      "File \u001b[1;32md:\\python\\NLP\\nlp_bootcamp\\venv\\lib\\site-packages\\spacy\\language.py:502\u001b[0m, in \u001b[0;36mLanguage.factory.<locals>.add_factory\u001b[1;34m(factory_func)\u001b[0m\n\u001b[0;32m    493\u001b[0m \u001b[39m# Officially register the factory so we can later call\u001b[39;00m\n\u001b[0;32m    494\u001b[0m \u001b[39m# registry.resolve and refer to it in the config as\u001b[39;00m\n\u001b[0;32m    495\u001b[0m \u001b[39m# @factories = \"spacy.Language.xyz\". We use the class name here so\u001b[39;00m\n\u001b[0;32m    496\u001b[0m \u001b[39m# different classes can have different factories.\u001b[39;00m\n\u001b[0;32m    497\u001b[0m registry\u001b[39m.\u001b[39mfactories\u001b[39m.\u001b[39mregister(internal_name, func\u001b[39m=\u001b[39mfactory_func)\n\u001b[0;32m    498\u001b[0m factory_meta \u001b[39m=\u001b[39m FactoryMeta(\n\u001b[0;32m    499\u001b[0m     factory\u001b[39m=\u001b[39mname,\n\u001b[0;32m    500\u001b[0m     default_config\u001b[39m=\u001b[39mdefault_config,\n\u001b[0;32m    501\u001b[0m     assigns\u001b[39m=\u001b[39mvalidate_attrs(assigns),\n\u001b[1;32m--> 502\u001b[0m     requires\u001b[39m=\u001b[39mvalidate_attrs(requires),\n\u001b[0;32m    503\u001b[0m     scores\u001b[39m=\u001b[39m\u001b[39mlist\u001b[39m(default_score_weights\u001b[39m.\u001b[39mkeys()),\n\u001b[0;32m    504\u001b[0m     default_score_weights\u001b[39m=\u001b[39mdefault_score_weights,\n\u001b[0;32m    505\u001b[0m     retokenizes\u001b[39m=\u001b[39mretokenizes,\n\u001b[0;32m    506\u001b[0m )\n\u001b[0;32m    507\u001b[0m \u001b[39mcls\u001b[39m\u001b[39m.\u001b[39mset_factory_meta(name, factory_meta)\n\u001b[0;32m    508\u001b[0m \u001b[39m# We're overwriting the class attr with a frozen dict to handle\u001b[39;00m\n\u001b[0;32m    509\u001b[0m \u001b[39m# backwards-compat (writing to Language.factories directly). This\u001b[39;00m\n\u001b[0;32m    510\u001b[0m \u001b[39m# wouldn't work with an instance property and just produce a\u001b[39;00m\n\u001b[0;32m    511\u001b[0m \u001b[39m# confusing error – here we can show a custom error\u001b[39;00m\n",
      "File \u001b[1;32md:\\python\\NLP\\nlp_bootcamp\\venv\\lib\\site-packages\\spacy\\pipe_analysis.py:38\u001b[0m, in \u001b[0;36mvalidate_attrs\u001b[1;34m(values)\u001b[0m\n\u001b[0;32m     36\u001b[0m     \u001b[39mraise\u001b[39;00m \u001b[39mValueError\u001b[39;00m(Errors\u001b[39m.\u001b[39mE181\u001b[39m.\u001b[39mformat(obj\u001b[39m=\u001b[39mobj_key, attrs\u001b[39m=\u001b[39minvalid_attrs))\n\u001b[0;32m     37\u001b[0m \u001b[39mif\u001b[39;00m \u001b[39mnot\u001b[39;00m \u001b[39misinstance\u001b[39m(attrs, \u001b[39mdict\u001b[39m):  \u001b[39m# attr is something like \"doc\"\u001b[39;00m\n\u001b[1;32m---> 38\u001b[0m     \u001b[39mraise\u001b[39;00m \u001b[39mValueError\u001b[39;00m(Errors\u001b[39m.\u001b[39mE182\u001b[39m.\u001b[39mformat(attr\u001b[39m=\u001b[39mobj_key))\n\u001b[0;32m     39\u001b[0m \u001b[39mfor\u001b[39;00m attr, value \u001b[39min\u001b[39;00m attrs\u001b[39m.\u001b[39mitems():\n\u001b[0;32m     40\u001b[0m     \u001b[39mif\u001b[39;00m attr \u001b[39m==\u001b[39m \u001b[39m\"\u001b[39m\u001b[39m_\u001b[39m\u001b[39m\"\u001b[39m:\n",
      "\u001b[1;31mValueError\u001b[0m: [E182] Received invalid attribute declaration: doc\nDid you forget to define the attribute? For example: `doc.???`"
     ]
    }
   ],
   "source": [
    "def CustomBoundaries(doc):\n",
    "    for token in doc[:-1]:\n",
    "        if token.text == ';':\n",
    "            # set start token after ; as start of the sentence\n",
    "            doc[token.i+1].is_sent_start = True\n",
    "    return doc\n",
    "\n",
    "def set_custom_boundaries(nlp, name, doc):\n",
    "    return CustomBoundaries(doc)\n",
    "\n",
    "Language.factory('custom_boundaries', func=set_custom_boundaries)"
   ]
  },
  {
   "cell_type": "code",
   "execution_count": null,
   "metadata": {},
   "outputs": [],
   "source": [
    "nlp.add_pipe('custom_boundaries', before='parser')\n",
    "nlp.pipe_names"
   ]
  },
  {
   "attachments": {},
   "cell_type": "markdown",
   "metadata": {},
   "source": [
    "###     CHANGE THE SEGMANTATION RULE"
   ]
  },
  {
   "cell_type": "code",
   "execution_count": null,
   "metadata": {},
   "outputs": [],
   "source": []
  }
 ],
 "metadata": {
  "kernelspec": {
   "display_name": "venv",
   "language": "python",
   "name": "python3"
  },
  "language_info": {
   "codemirror_mode": {
    "name": "ipython",
    "version": 3
   },
   "file_extension": ".py",
   "mimetype": "text/x-python",
   "name": "python",
   "nbconvert_exporter": "python",
   "pygments_lexer": "ipython3",
   "version": "3.10.5"
  },
  "orig_nbformat": 4
 },
 "nbformat": 4,
 "nbformat_minor": 2
}
